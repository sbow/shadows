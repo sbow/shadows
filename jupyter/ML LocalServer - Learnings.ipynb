{
 "cells": [
  {
   "cell_type": "markdown",
   "id": "93b98b60",
   "metadata": {},
   "source": [
    "## ML LocalServer - Learnings\n"
   ]
  },
  {
   "cell_type": "markdown",
   "id": "9ef7c047",
   "metadata": {},
   "source": [
    "### Udacity to Machine Learning\n",
    "\n",
    "[udacity course](https://classroom.udacity.com/courses/ud120)"
   ]
  },
  {
   "attachments": {},
   "cell_type": "markdown",
   "id": "b28d10bc",
   "metadata": {},
   "source": [
    "#### SVM - Support Vector Machine\n",
    "Goal of SVM - is to generate a vector that separates groupings of datapoints into classified sets.\n",
    "##### Terminology:\n",
    "\n",
    "| Term | Definition |\n",
    "| :- | :- |\n",
    "| Margin | distance to nearest point |\n",
    "|Decision Surface | n dimentional seperating geometry. Line, plane, ect |\n",
    "\n",
    "##### Resources:\n",
    "[Scikit-learn support vector machine](https://scikit-learn.org/stable/modules/svm.html)"
   ]
  },
  {
   "cell_type": "code",
   "execution_count": 4,
   "id": "81264377",
   "metadata": {},
   "outputs": [
    {
     "data": {
      "text/html": [
       "<style>#sk-container-id-1 {color: black;background-color: white;}#sk-container-id-1 pre{padding: 0;}#sk-container-id-1 div.sk-toggleable {background-color: white;}#sk-container-id-1 label.sk-toggleable__label {cursor: pointer;display: block;width: 100%;margin-bottom: 0;padding: 0.3em;box-sizing: border-box;text-align: center;}#sk-container-id-1 label.sk-toggleable__label-arrow:before {content: \"▸\";float: left;margin-right: 0.25em;color: #696969;}#sk-container-id-1 label.sk-toggleable__label-arrow:hover:before {color: black;}#sk-container-id-1 div.sk-estimator:hover label.sk-toggleable__label-arrow:before {color: black;}#sk-container-id-1 div.sk-toggleable__content {max-height: 0;max-width: 0;overflow: hidden;text-align: left;background-color: #f0f8ff;}#sk-container-id-1 div.sk-toggleable__content pre {margin: 0.2em;color: black;border-radius: 0.25em;background-color: #f0f8ff;}#sk-container-id-1 input.sk-toggleable__control:checked~div.sk-toggleable__content {max-height: 200px;max-width: 100%;overflow: auto;}#sk-container-id-1 input.sk-toggleable__control:checked~label.sk-toggleable__label-arrow:before {content: \"▾\";}#sk-container-id-1 div.sk-estimator input.sk-toggleable__control:checked~label.sk-toggleable__label {background-color: #d4ebff;}#sk-container-id-1 div.sk-label input.sk-toggleable__control:checked~label.sk-toggleable__label {background-color: #d4ebff;}#sk-container-id-1 input.sk-hidden--visually {border: 0;clip: rect(1px 1px 1px 1px);clip: rect(1px, 1px, 1px, 1px);height: 1px;margin: -1px;overflow: hidden;padding: 0;position: absolute;width: 1px;}#sk-container-id-1 div.sk-estimator {font-family: monospace;background-color: #f0f8ff;border: 1px dotted black;border-radius: 0.25em;box-sizing: border-box;margin-bottom: 0.5em;}#sk-container-id-1 div.sk-estimator:hover {background-color: #d4ebff;}#sk-container-id-1 div.sk-parallel-item::after {content: \"\";width: 100%;border-bottom: 1px solid gray;flex-grow: 1;}#sk-container-id-1 div.sk-label:hover label.sk-toggleable__label {background-color: #d4ebff;}#sk-container-id-1 div.sk-serial::before {content: \"\";position: absolute;border-left: 1px solid gray;box-sizing: border-box;top: 0;bottom: 0;left: 50%;z-index: 0;}#sk-container-id-1 div.sk-serial {display: flex;flex-direction: column;align-items: center;background-color: white;padding-right: 0.2em;padding-left: 0.2em;position: relative;}#sk-container-id-1 div.sk-item {position: relative;z-index: 1;}#sk-container-id-1 div.sk-parallel {display: flex;align-items: stretch;justify-content: center;background-color: white;position: relative;}#sk-container-id-1 div.sk-item::before, #sk-container-id-1 div.sk-parallel-item::before {content: \"\";position: absolute;border-left: 1px solid gray;box-sizing: border-box;top: 0;bottom: 0;left: 50%;z-index: -1;}#sk-container-id-1 div.sk-parallel-item {display: flex;flex-direction: column;z-index: 1;position: relative;background-color: white;}#sk-container-id-1 div.sk-parallel-item:first-child::after {align-self: flex-end;width: 50%;}#sk-container-id-1 div.sk-parallel-item:last-child::after {align-self: flex-start;width: 50%;}#sk-container-id-1 div.sk-parallel-item:only-child::after {width: 0;}#sk-container-id-1 div.sk-dashed-wrapped {border: 1px dashed gray;margin: 0 0.4em 0.5em 0.4em;box-sizing: border-box;padding-bottom: 0.4em;background-color: white;}#sk-container-id-1 div.sk-label label {font-family: monospace;font-weight: bold;display: inline-block;line-height: 1.2em;}#sk-container-id-1 div.sk-label-container {text-align: center;}#sk-container-id-1 div.sk-container {/* jupyter's `normalize.less` sets `[hidden] { display: none; }` but bootstrap.min.css set `[hidden] { display: none !important; }` so we also need the `!important` here to be able to override the default hidden behavior on the sphinx rendered scikit-learn.org. See: https://github.com/scikit-learn/scikit-learn/issues/21755 */display: inline-block !important;position: relative;}#sk-container-id-1 div.sk-text-repr-fallback {display: none;}</style><div id=\"sk-container-id-1\" class=\"sk-top-container\"><div class=\"sk-text-repr-fallback\"><pre>SVC()</pre><b>In a Jupyter environment, please rerun this cell to show the HTML representation or trust the notebook. <br />On GitHub, the HTML representation is unable to render, please try loading this page with nbviewer.org.</b></div><div class=\"sk-container\" hidden><div class=\"sk-item\"><div class=\"sk-estimator sk-toggleable\"><input class=\"sk-toggleable__control sk-hidden--visually\" id=\"sk-estimator-id-1\" type=\"checkbox\" checked><label for=\"sk-estimator-id-1\" class=\"sk-toggleable__label sk-toggleable__label-arrow\">SVC</label><div class=\"sk-toggleable__content\"><pre>SVC()</pre></div></div></div></div></div>"
      ],
      "text/plain": [
       "SVC()"
      ]
     },
     "execution_count": 4,
     "metadata": {},
     "output_type": "execute_result"
    }
   ],
   "source": [
    "# From https://scikit-learn.org/stable/modules/svm.html\n",
    "from sklearn import svm\n",
    "X = [[0, 0], [1,1]]\n",
    "y = [0, 1]\n",
    "clf = svm.SVC()\n",
    "clf.fit(X,y)"
   ]
  },
  {
   "cell_type": "code",
   "execution_count": 5,
   "id": "242de43e",
   "metadata": {},
   "outputs": [
    {
     "data": {
      "text/plain": [
       "array([[0., 0.],\n",
       "       [1., 1.]])"
      ]
     },
     "execution_count": 5,
     "metadata": {},
     "output_type": "execute_result"
    }
   ],
   "source": [
    "clf.support_vectors_"
   ]
  },
  {
   "cell_type": "code",
   "execution_count": 6,
   "id": "1e0b7786",
   "metadata": {},
   "outputs": [
    {
     "data": {
      "text/plain": [
       "array([1])"
      ]
     },
     "execution_count": 6,
     "metadata": {},
     "output_type": "execute_result"
    }
   ],
   "source": [
    "clf.predict([[2., 2.]])"
   ]
  },
  {
   "cell_type": "markdown",
   "id": "e57af451",
   "metadata": {},
   "source": [
    "##### Udacity Example - Lesson 3, concept 12. Coding Up the SVM\n",
    "###### sklearn svm command\n",
    "###### clf = svm.SVC(kernel=\"linear\")\n",
    "###### clf.fit(X, Y)\n",
    "| term | Definition |\n",
    "| :- | :- |\n",
    "| clf | classifier object, from svm.SCV |\n",
    "| kernel | linear, rbf, polynomial, sigmoid |\n",
    "| X | an array X of shape (n_samples, n_features) |\n",
    "| Y | an array Y of shape "
   ]
  },
  {
   "cell_type": "code",
   "execution_count": 22,
   "id": "86906483",
   "metadata": {},
   "outputs": [
    {
     "name": "stdout",
     "output_type": "stream",
     "text": [
      "Accuracy using tumar mean area and smoothness only: 0.930\n",
      "Accuracy using full 30 factor tumor evaluation: 0.965\n",
      "Number of samples: 569, Method: Support Vector Machine (SVM), Kernel: Linear\n"
     ]
    }
   ],
   "source": [
    "import sys\n",
    "\n",
    "import matplotlib.pyplot as plt\n",
    "import copy\n",
    "import numpy as np\n",
    "\n",
    "########################## SVM #################################\n",
    "### we handle the import statement and SVC creation for you here\n",
    "from sklearn.svm import SVC\n",
    "from sklearn import datasets\n",
    "\n",
    "clf = SVC(kernel=\"linear\")\n",
    "\n",
    "cancer = datasets.load_breast_cancer() # container object w data, feature_names, target [labels]\n",
    "x_features_meanArea = cancer.data[:,3] # 569,30 ndarray; taking 569,1 size vector correspondig to mean area\n",
    "x_features_meanSmoothness = cancer.data[:,4] # ^samesame, corresponding to smoothness of tumor\n",
    "\n",
    "X_features = np.ndarray( shape=(569,2) ) # note: SVM method needs at least 2 features!!\n",
    "X_features[:,0] = x_features_meanArea\n",
    "X_features[:,1] = x_features_meanSmoothness\n",
    "y_labels_malignantBenign = cancer.target # 569,1 ndarray; values: 0|malignant, 1|benign\n",
    "\n",
    "\n",
    "\n",
    "#### now your job is to fit the classifier\n",
    "#### using the training features/labels, and to\n",
    "#### make a set of predictions on the test data\n",
    "\n",
    "from sklearn.model_selection import train_test_split\n",
    "X_train, X_test, y_train, y_test = train_test_split(X_features, y_labels_malignantBenign, test_size=0.3, random_state=109)\n",
    "\n",
    "clf.fit(X_train, y_train) # train the svm...\n",
    "\n",
    "\n",
    "#### store your predictions in a list named pred\n",
    "pred = clf.predict(X_test)\n",
    "\n",
    "\n",
    "from sklearn.metrics import accuracy_score\n",
    "acc = accuracy_score(pred, y_test)\n",
    "print(f\"Accuracy using tumar mean area and smoothness only: {acc:.3f}\")\n",
    "\n",
    "### quickly do same on full model\n",
    "X_train, X_test, y_train, y_test = train_test_split(cancer.data, cancer.target, test_size=0.3, random_state=109)\n",
    "clf.fit(X_train,y_train)\n",
    "predFull = clf.predict(X_test)\n",
    "accFull = accuracy_score(predFull, y_test)\n",
    "print(f\"Accuracy using full 30 factor tumor evaluation: {accFull:.3f}\")\n",
    "print(f\"Number of samples: 569, Method: Support Vector Machine (SVM), Kernel: Linear\")\n",
    "\n",
    "def submitAccuracy():\n",
    "    return acc"
   ]
  },
  {
   "cell_type": "code",
   "execution_count": null,
   "id": "421ae18b",
   "metadata": {},
   "outputs": [],
   "source": []
  }
 ],
 "metadata": {
  "kernelspec": {
   "display_name": "Python 3 (ipykernel)",
   "language": "python",
   "name": "python3"
  },
  "language_info": {
   "codemirror_mode": {
    "name": "ipython",
    "version": 3
   },
   "file_extension": ".py",
   "mimetype": "text/x-python",
   "name": "python",
   "nbconvert_exporter": "python",
   "pygments_lexer": "ipython3",
   "version": "3.8.10"
  }
 },
 "nbformat": 4,
 "nbformat_minor": 5
}
