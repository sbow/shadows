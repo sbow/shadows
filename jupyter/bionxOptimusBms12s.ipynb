{
 "cells": [
  {
   "cell_type": "markdown",
   "id": "f61604be-9cb2-4270-bf57-f0d2fb6c5dfb",
   "metadata": {},
   "source": [
    "## bionX Optimimus BMS Reverse Engineer\n",
    "### Shaun Bowman\n",
    "### 2022/03/08\n"
   ]
  },
  {
   "cell_type": "markdown",
   "id": "0fe2021f-f10b-427b-aafb-03a4f3041c0d",
   "metadata": {},
   "source": [
    "#### MCU\n",
    "#### Freescale S912 Series\n",
    "#### PN: S912 ZVCA19 MON23N CTQJBJ"
   ]
  },
  {
   "cell_type": "markdown",
   "id": "978e9220-b26b-4eb9-ba87-cc0003c31c00",
   "metadata": {},
   "source": [
    "[S912 Family Ref Manual NXP / Freescale](https://datasheet.datasheetarchive.com/originals/dk/DKDS42/DSANUWW0048020.pdf#page=22&zoom=100,0,0)\n",
    "["
   ]
  },
  {
   "cell_type": "markdown",
   "id": "088a5dba-3b51-4e55-aae8-f1e33228fe40",
   "metadata": {},
   "source": [
    "#### Notes:\n",
    "Crazy amounts of Silastic, made opening almost impossible\n",
    "Appears to be stuck in latched fault\n",
    "42 V OCV Nom\n",
    "12S2P Cell Configuration"
   ]
  },
  {
   "cell_type": "markdown",
   "id": "6c28c3e2-38b2-4461-aa62-ff9cad1d7b77",
   "metadata": {},
   "source": [
    "### Battery Monitorying\n",
    "#### PN: BQ7694003 (Full label on chip: 83AL8ZT G4 BQ7694003)\n",
    "[datasheet from alldatasheet](https://www.alldatasheet.com/view.jsp?Searchword=BQ7694003&sField=2)\n",
    "\n",
    "[direct version](https://pdf1.alldatasheet.com/datasheet-pdf/view/810034/TI1/BQ7694003DBTR.html)\n",
    "\n",
    "[link to part on digikey](https://www.digikey.com/en/products/detail/texas-instruments/BQ7694003DBTR/6571647)\n",
    "\n",
    "[GREAT resource comparing various BMS chips -  this one sucks..](https://vasilisks.wordpress.com/2017/12/11/battery-ic-cell-monitor-overview-ltc6803-bq76920-isl94203/)\n"
   ]
  },
  {
   "cell_type": "markdown",
   "id": "062d716f-c3b2-483b-8135-c813f217e341",
   "metadata": {},
   "source": [
    "Whoahhhhhh.... there might very well be a fault set on the battery monitorying chip! for uv... needs to be cleared by host by setting register SYS_STAT (0x00) to 1's - see Table 7-2 in datasheet, page 33. Also there appears to be an override pin...."
   ]
  },
  {
   "cell_type": "markdown",
   "id": "59dad7c6-e8a8-42f9-afe9-fbf6360a7ebd",
   "metadata": {},
   "source": [
    "i2c interface from battery monitor, to host microcontroller\n",
    "pins:\n",
    "\n",
    "- SDA 4\n",
    "- SCL 5\n",
    "- BAT 20, pwr FOR bat monitor\n",
    "- REGOUT 8, pwr TO supervisory controller"
   ]
  },
  {
   "cell_type": "markdown",
   "id": "468cd59f-8e34-45fa-bf49-4bd3b136101a",
   "metadata": {},
   "source": [
    "Alert must be cleared from microcontroller, to battery monitor via i2c"
   ]
  },
  {
   "cell_type": "markdown",
   "id": "aa634c5f-1f1d-4ffc-aaf8-9d49a2889149",
   "metadata": {},
   "source": [
    "##### Terminology:\n",
    "- Vss : Ground\n",
    "- VCC : Logic pwr supply\n",
    "- BAT : Battery + terminal\n",
    "- REGOUT,Output LDO : Power supply out, to controller? --> seems to from C39, pin 8 of IC (REGOUT) to gold plated circular via by pin 1 of cpu\n",
    "- TS1 : Thermistor #1 pos term, pin 6"
   ]
  },
  {
   "cell_type": "markdown",
   "id": "f578a35f-0ca0-44d8-9088-ca507eaf45de",
   "metadata": {},
   "source": [
    "##### Lithium Ion Battery Referance:\n",
    "- OCV voltage vs state of charge\n",
    ":--\n",
    "![OCVlion](https://www.researchgate.net/publication/324431195/figure/fig12/AS:614090741391382@1523422050880/Li-Ion-battery-OCV-versus-SOC-for-a-UDDS-cycle-charging-current-profile-test.png)"
   ]
  },
  {
   "cell_type": "markdown",
   "id": "4178825e-e293-468f-84f7-9bf2f9148795",
   "metadata": {},
   "source": [
    "### I2C Bus\n",
    "#### Pinout BMS chip to header on board, connect to raspberry pi \n",
    "[datasheet from alldatasheet](https://www.alldatasheet.com/view.jsp?Searchword=BQ7694003&sField=2)\n",
    "\n",
    "![I2CPins](https://share.icloud.com/photos/02fle25NmPhlUZQutC2rHBK8g)\n",
    "\n",
    "\n",
    "#### Register Details\n",
    "##### SYS_STAT (0x00)\n",
    "\n",
    "| BIT | 7 | 6 | 5 | 4 | 3 | 2 | 1 | 0 |\n",
    "|:--|:--:|:--:|:--:|:--:|:--:|:--:|:--:|:--:|\n",
    "| NAME | CC_READY | RSVD | DEVICE_XREADY | OVRD_ALERT | UV | OV | SCD | OCD |\n",
    "| RESET | 0 | 0 | 0 | 0 | 0 | 0 | 0 | 0 |\n",
    "| ACCESS | RW | RW | RW | RW | RW | RW | RW | RW |\n",
    "\n",
    "- Bits in SYS_STAT may be cleared by writing a \"1\" to the corresponding bit.\n",
    "- Writing a \"0\" does not change the state of the corresponding bit.\n"
   ]
  },
  {
   "cell_type": "markdown",
   "id": "3836037f-e462-4a93-b493-897c09253637",
   "metadata": {},
   "source": [
    "https://share.icloud.com/photos/02fle25NmPhlUZQutC2rHBK8g"
   ]
  },
  {
   "cell_type": "markdown",
   "id": "720e927b-0911-48b1-8089-c9fa7f1c5a85",
   "metadata": {
    "tags": []
   },
   "source": [
    "***\n",
    "##### CC_READY (Bit 7)\n",
    "##### : Indicates that a fresh coulomb counter reading is available.\n",
    "Note that if this bit is not\n",
    "cleared between two adjacent CC readings becoming available, the bit remains latched to 1. This bit may\n",
    "only be cleared (and not set) by the host.\n",
    "0 = Fresh CC reading not yet available or bit is cleared by host microcontroller.\n",
    "1 = Fresh CC reading is available. Remains latched high until cleared by host.\n",
    "***\n",
    "##### RSVD (Bit 6)\n",
    "##### : Reserved. Do not use.\n",
    "***\n",
    "##### DEVICE_XREADY (Bit 5)\n",
    "##### : Internal chip fault indicator.\n",
    "When this bit is set to 1, it should be cleared by\n",
    "the host. May be set due to excessive system transients. This bit may only be cleared (and not set) by\n",
    "the host.\n",
    "0 = Device is OK.\n",
    "1 = Internal chip fault detected, recommend that host microcontroller clear this bit after waiting a\n",
    "few seconds. Remains latched high until cleared by the host.\n",
    "***\n",
    "##### OVRD_ALERT (Bit 4)\n",
    "##### : External pull-up on the ALERT pin indicator.\n",
    "Only active when ALERT pin is not\n",
    "already being driven high by the AFE itself.\n",
    "0 = No external override detected\n",
    "1 = External override detected. Remains latched high until cleared by the host.\n",
    "***\n",
    "##### UV (Bit 3)\n",
    "##### : Undervoltage fault event indicator.\n",
    "0 = No UV fault is detected.\n",
    "1 = UV fault is detected. Remains latched high until cleared by the host.\n",
    "***\n",
    "##### OV (Bit 2)\n",
    "##### : Overvoltage fault event indicator.\n",
    "0 = No OV fault is detected.\n",
    "1 = OV fault is detected. Remains latched high until cleared by the host."
   ]
  },
  {
   "cell_type": "code",
   "execution_count": null,
   "id": "daedd16f-1af7-49fa-8809-ed56e54f4425",
   "metadata": {},
   "outputs": [],
   "source": []
  }
 ],
 "metadata": {
  "kernelspec": {
   "display_name": "Python 3 (ipykernel)",
   "language": "python",
   "name": "python3"
  },
  "language_info": {
   "codemirror_mode": {
    "name": "ipython",
    "version": 3
   },
   "file_extension": ".py",
   "mimetype": "text/x-python",
   "name": "python",
   "nbconvert_exporter": "python",
   "pygments_lexer": "ipython3",
   "version": "3.8.10"
  }
 },
 "nbformat": 4,
 "nbformat_minor": 5
}
