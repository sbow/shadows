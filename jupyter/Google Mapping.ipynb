{
 "cells": [
  {
   "cell_type": "code",
   "execution_count": 1,
   "id": "17ec339c",
   "metadata": {},
   "outputs": [
    {
     "data": {
      "application/vnd.jupyter.widget-view+json": {
       "model_id": "4be0e5afac0a49d98dce1d7496d52a0f",
       "version_major": 2,
       "version_minor": 0
      },
      "text/plain": [
       "Figure(layout=FigureLayout(height='420px'))"
      ]
     },
     "metadata": {},
     "output_type": "display_data"
    }
   ],
   "source": [
    "\"\"\"A points on map script\"\"\"\n",
    "\n",
    "import googlemaps\n",
    "import gmaps #for jupyter notebooks...\n",
    "\n",
    "# load googlemaps API key from file:\n",
    "with open('apikey.txt') as f:\n",
    "    api_key = f.readline()\n",
    "\n",
    "# setup google maps\n",
    "gmaps.configure(api_key=api_key)\n",
    "\n",
    "# dummy locations\n",
    "loc1 = (37.2753, -107.880067)\n",
    "loc2 = (37.2900, -108.000000)\n",
    "\n",
    "# create map\n",
    "fig = gmaps.figure()\n",
    "\n",
    "# create layer\n",
    "layer = gmaps.directions.Directions(loc1, loc2, mode='car')\n",
    "\n",
    "# add the layer\n",
    "fig.add_layer(layer=layer)\n",
    "fig\n"
   ]
  },
  {
   "cell_type": "code",
   "execution_count": null,
   "id": "6bc0b622",
   "metadata": {},
   "outputs": [],
   "source": []
  }
 ],
 "metadata": {
  "kernelspec": {
   "display_name": "Python 3 (ipykernel)",
   "language": "python",
   "name": "python3"
  },
  "language_info": {
   "codemirror_mode": {
    "name": "ipython",
    "version": 3
   },
   "file_extension": ".py",
   "mimetype": "text/x-python",
   "name": "python",
   "nbconvert_exporter": "python",
   "pygments_lexer": "ipython3",
   "version": "3.8.10"
  }
 },
 "nbformat": 4,
 "nbformat_minor": 5
}
