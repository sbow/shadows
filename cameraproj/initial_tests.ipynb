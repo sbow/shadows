{
 "cells": [
  {
   "cell_type": "code",
   "execution_count": null,
   "metadata": {},
   "outputs": [],
   "source": [
    "# Import necessary libraries\n",
    "import cv2\n",
    "import numpy as np\n",
    "from IPython.display import display, Image\n",
    "import io\n",
    "\n",
    "# Function to capture a frame from the RTSP stream\n",
    "def capture_frame(rtsp_url):\n",
    "    # Connect to the RTSP stream\n",
    "    cap = cv2.VideoCapture(rtsp_url)\n",
    "\n",
    "    # Check if connection was successful\n",
    "    if not cap.isOpened():\n",
    "        print(\"Cannot connect to the camera\")\n",
    "        return None\n",
    "\n",
    "    # Capture a single frame\n",
    "    ret, frame = cap.read()\n",
    "\n",
    "    # Release the VideoCapture object\n",
    "    cap.release()\n",
    "\n",
    "    if ret:\n",
    "        return frame\n",
    "    else:\n",
    "        print(\"Failed to capture a frame\")\n",
    "        return None\n",
    "\n",
    "# Function to display an image in a Jupyter notebook\n",
    "def display_image(frame):\n",
    "    _, encoded_image = cv2.imencode('.png', frame)\n",
    "    display(Image(data=encoded_image))\n",
    "\n",
    "# RTSP URL of your camera (replace this with your camera's RTSP URL)\n",
    "rtsp_url = 'rtsp://192.168.1.37'\n",
    "\n",
    "# Capture and display the frame\n",
    "frame = capture_frame(rtsp_url)\n",
    "if frame is not None:\n",
    "    display_image(frame)\n"
   ]
  },
  {
   "cell_type": "code",
   "execution_count": null,
   "metadata": {},
   "outputs": [],
   "source": []
  }
 ],
 "metadata": {
  "language_info": {
   "name": "python"
  }
 },
 "nbformat": 4,
 "nbformat_minor": 2
}
